{
 "cells": [
  {
   "cell_type": "code",
   "execution_count": 1,
   "metadata": {},
   "outputs": [],
   "source": [
    "#import packages\n",
    "import numpy as np\n",
    "import pandas as pd\n",
    "from sklearn import preprocessing"
   ]
  },
  {
   "cell_type": "code",
   "execution_count": 4,
   "metadata": {},
   "outputs": [],
   "source": [
    "#importing the csv file\n",
    "data = pd.read_csv('df2.csv', sep=',')"
   ]
  },
  {
   "cell_type": "code",
   "execution_count": 6,
   "metadata": {},
   "outputs": [],
   "source": [
    "#extra column is inserted, you don't want that, remove the column\n",
    "del data['Unnamed: 0']"
   ]
  },
  {
   "cell_type": "code",
   "execution_count": 8,
   "metadata": {},
   "outputs": [
    {
     "data": {
      "text/plain": [
       "array(['ID', 'trouw_don', 'Gewicht', 'Lengte', 'MaritalStatus',\n",
       "       'Household', 'NrPreviousDonations', 'Gender', 'AgeDISParticipation',\n",
       "       'D2_v11', 'Work_hours', 'v12_a', 'v12_b', 'v12_c', 'v12_d',\n",
       "       'D2_v13', 'D2_v15', 'D2_v16_1', 'D2_v16_2', 'D2_v16_3', 'D2_v16_4',\n",
       "       'D2_v16_5', 'D2_v16_6', 'D2_v16_7', 'D2_v16_8', 'D2_v16_9',\n",
       "       'D2_v16_10', 'D2_v16_11', 'D2_v16_12', 'v20cog', 'v20af', 'v21_int',\n",
       "       'v20ses', 'v21_sn', 'v21_mn', 'v29_1', 'v40_1', 'v47', 'v46', 'v48',\n",
       "       'v52mgz', 'v52_g', 'v52_h', 'v52_i', 'v52sg', 'v61_0', 'v60_0'], dtype=object)"
      ]
     },
     "execution_count": 8,
     "metadata": {},
     "output_type": "execute_result"
    }
   ],
   "source": [
    "data.columns.values"
   ]
  },
  {
   "cell_type": "code",
   "execution_count": 18,
   "metadata": {},
   "outputs": [],
   "source": [
    "## keep Veldhuizen related columns\n",
    "new_data = data.loc[:,('ID','trouw_don','AgeDISParticipation', 'Gender','D2_v13', 'D2_v15', 'D2_v16_1', 'D2_v16_2', 'D2_v16_3', 'D2_v16_4',\n",
    "       'D2_v16_5', 'D2_v16_6', 'D2_v16_7', 'D2_v16_8', 'D2_v16_9',\n",
    "       'D2_v16_10', 'D2_v16_11', 'D2_v16_12', 'v20cog', 'v20af', 'v21_int',\n",
    "       'v20ses', 'v21_sn', 'v21_mn', 'v46')]\n"
   ]
  },
  {
   "cell_type": "code",
   "execution_count": 19,
   "metadata": {},
   "outputs": [
    {
     "data": {
      "text/plain": [
       "ID                     int64\n",
       "trouw_don              int64\n",
       "AgeDISParticipation    int64\n",
       "Gender                 int64\n",
       "D2_v13                 int64\n",
       "D2_v15                 int64\n",
       "D2_v16_1               int64\n",
       "D2_v16_2               int64\n",
       "D2_v16_3               int64\n",
       "D2_v16_4               int64\n",
       "D2_v16_5               int64\n",
       "D2_v16_6               int64\n",
       "D2_v16_7               int64\n",
       "D2_v16_8               int64\n",
       "D2_v16_9               int64\n",
       "D2_v16_10              int64\n",
       "D2_v16_11              int64\n",
       "D2_v16_12              int64\n",
       "v20cog                 int64\n",
       "v20af                  int64\n",
       "v21_int                int64\n",
       "v20ses                 int64\n",
       "v21_sn                 int64\n",
       "v21_mn                 int64\n",
       "v46                    int64\n",
       "dtype: object"
      ]
     },
     "execution_count": 19,
     "metadata": {},
     "output_type": "execute_result"
    }
   ],
   "source": [
    "new_data.dtypes"
   ]
  },
  {
   "cell_type": "code",
   "execution_count": 20,
   "metadata": {},
   "outputs": [],
   "source": [
    "## Gender split\n",
    "men = new_data.loc[data['Gender'] == 1]\n",
    "women = new_data.loc[data['Gender'] == 2]"
   ]
  },
  {
   "cell_type": "code",
   "execution_count": 21,
   "metadata": {},
   "outputs": [],
   "source": [
    "#dataframe male/female\n",
    "men.to_csv('men.csv')\n",
    "women.to_csv('women.csv')"
   ]
  }
 ],
 "metadata": {
  "kernelspec": {
   "display_name": "Python 3",
   "language": "python",
   "name": "python3"
  },
  "language_info": {
   "codemirror_mode": {
    "name": "ipython",
    "version": 3
   },
   "file_extension": ".py",
   "mimetype": "text/x-python",
   "name": "python",
   "nbconvert_exporter": "python",
   "pygments_lexer": "ipython3",
   "version": "3.5.3"
  }
 },
 "nbformat": 4,
 "nbformat_minor": 2
}
