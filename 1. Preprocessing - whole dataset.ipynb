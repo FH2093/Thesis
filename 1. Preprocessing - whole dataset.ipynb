{
 "cells": [
  {
   "cell_type": "code",
   "execution_count": 22,
   "metadata": {},
   "outputs": [],
   "source": [
    "#import packages\n",
    "import numpy as np\n",
    "import pandas as pd\n",
    "from sklearn import preprocessing"
   ]
  },
  {
   "cell_type": "code",
   "execution_count": 41,
   "metadata": {},
   "outputs": [],
   "source": [
    "#importing the csv file\n",
    "new_data = pd.read_csv('nd2.csv', sep=',')"
   ]
  },
  {
   "cell_type": "code",
   "execution_count": 42,
   "metadata": {},
   "outputs": [
    {
     "name": "stdout",
     "output_type": "stream",
     "text": [
      "(12859, 85)\n"
     ]
    }
   ],
   "source": [
    "print(new_data.shape)"
   ]
  },
  {
   "cell_type": "code",
   "execution_count": 43,
   "metadata": {},
   "outputs": [
    {
     "data": {
      "text/plain": [
       "ID                           int64\n",
       "DaysbetweenDIS_Donation      int64\n",
       "trouw_don                    int64\n",
       "NrPreviousDonations          int64\n",
       "Gender                       int64\n",
       "AgeDISParticipation          int64\n",
       "Gewicht                    float64\n",
       "Lengte                     float64\n",
       "MaritalStatus              float64\n",
       "Household                  float64\n",
       "Work_hours                 float64\n",
       "D2_v10                     float64\n",
       "D2_v11                     float64\n",
       "v12_a                      float64\n",
       "v12_b                      float64\n",
       "v12_c                      float64\n",
       "v12_d                      float64\n",
       "D2_v13                     float64\n",
       "D2_v15                     float64\n",
       "D2_v16_1                     int64\n",
       "D2_v16_2                     int64\n",
       "D2_v16_3                     int64\n",
       "D2_v16_4                     int64\n",
       "D2_v16_5                     int64\n",
       "D2_v16_6                     int64\n",
       "D2_v16_7                     int64\n",
       "D2_v16_8                     int64\n",
       "D2_v16_9                     int64\n",
       "D2_v16_10                    int64\n",
       "D2_v16_11                    int64\n",
       "                            ...   \n",
       "v46_b                      float64\n",
       "v46_c                      float64\n",
       "v46_d                      float64\n",
       "v46_e                      float64\n",
       "v46_f                      float64\n",
       "v46_g                      float64\n",
       "v47_a                      float64\n",
       "v47_b                      float64\n",
       "v47_c                      float64\n",
       "v47_d                      float64\n",
       "v48                        float64\n",
       "v52_a                      float64\n",
       "v52_b                      float64\n",
       "v52_c                      float64\n",
       "v52_d                      float64\n",
       "v52_e                      float64\n",
       "v52_f                      float64\n",
       "v52_g                      float64\n",
       "v52_h                      float64\n",
       "v52_i                      float64\n",
       "v52_j                      float64\n",
       "v52_k                      float64\n",
       "v52_l                      float64\n",
       "v52_m                      float64\n",
       "v52_n                      float64\n",
       "v52_o                      float64\n",
       "v52_p                      float64\n",
       "v52_q                      float64\n",
       "v60_0                      float64\n",
       "v61_0                      float64\n",
       "dtype: object"
      ]
     },
     "execution_count": 43,
     "metadata": {},
     "output_type": "execute_result"
    }
   ],
   "source": [
    "#check data types\n",
    "new_data.dtypes"
   ]
  },
  {
   "cell_type": "code",
   "execution_count": 45,
   "metadata": {},
   "outputs": [],
   "source": [
    "# fill missing values with mean column values\n",
    "new_data = new_data.fillna(new_data.mean(), inplace=True)"
   ]
  },
  {
   "cell_type": "code",
   "execution_count": 44,
   "metadata": {},
   "outputs": [
    {
     "data": {
      "text/plain": [
       "array(['ID', 'DaysbetweenDIS_Donation', 'trouw_don', 'NrPreviousDonations',\n",
       "       'Gender', 'AgeDISParticipation', 'Gewicht', 'Lengte',\n",
       "       'MaritalStatus', 'Household', 'Work_hours', 'D2_v10', 'D2_v11',\n",
       "       'v12_a', 'v12_b', 'v12_c', 'v12_d', 'D2_v13', 'D2_v15', 'D2_v16_1',\n",
       "       'D2_v16_2', 'D2_v16_3', 'D2_v16_4', 'D2_v16_5', 'D2_v16_6',\n",
       "       'D2_v16_7', 'D2_v16_8', 'D2_v16_9', 'D2_v16_10', 'D2_v16_11',\n",
       "       'D2_v16_12', 'v20_a', 'v20_b', 'v20_c', 'v20_d', 'v20_e', 'v20_f',\n",
       "       'v21_a', 'v21_b', 'v21_c', 'v21_d', 'v21_e', 'v21_f', 'v21_g',\n",
       "       'v21_h', 'v21_i', 'v21_j', 'v21_k', 'v21_l', 'v21_m', 'v21_n',\n",
       "       'v21_o', 'v29_1', 'v40_1', 'v46_a', 'v46_b', 'v46_c', 'v46_d',\n",
       "       'v46_e', 'v46_f', 'v46_g', 'v47_a', 'v47_b', 'v47_c', 'v47_d',\n",
       "       'v48', 'v52_a', 'v52_b', 'v52_c', 'v52_d', 'v52_e', 'v52_f',\n",
       "       'v52_g', 'v52_h', 'v52_i', 'v52_j', 'v52_k', 'v52_l', 'v52_m',\n",
       "       'v52_n', 'v52_o', 'v52_p', 'v52_q', 'v60_0', 'v61_0'], dtype=object)"
      ]
     },
     "execution_count": 44,
     "metadata": {},
     "output_type": "execute_result"
    }
   ],
   "source": [
    "new_data.columns.values"
   ]
  },
  {
   "cell_type": "code",
   "execution_count": 46,
   "metadata": {},
   "outputs": [],
   "source": [
    "# change float to int\n",
    "cols = ['MaritalStatus', 'Household', 'Work_hours', 'D2_v10', 'D2_v11',\n",
    "       'v12_a', 'v12_b', 'v12_c', 'v12_d', 'D2_v13', 'D2_v15', 'v20_a', 'v20_b', 'v20_c', 'v20_d', 'v20_e', 'v20_f',\n",
    "       'v21_a', 'v21_b', 'v21_c', 'v21_d', 'v21_e', 'v21_f', 'v21_g',\n",
    "       'v21_h', 'v21_i', 'v21_j', 'v21_k', 'v21_l', 'v21_m', 'v21_n',\n",
    "       'v21_o', 'v29_1', 'v40_1', 'v46_a', 'v46_b', 'v46_c', 'v46_d',\n",
    "       'v46_e', 'v46_f', 'v46_g', 'v47_a', 'v47_b', 'v47_c', 'v47_d',\n",
    "       'v48', 'v52_a', 'v52_b', 'v52_c', 'v52_d', 'v52_e', 'v52_f',\n",
    "       'v52_g', 'v52_h', 'v52_i', 'v52_j', 'v52_k', 'v52_l', 'v52_m',\n",
    "       'v52_n', 'v52_o', 'v52_p', 'v52_q', 'v60_0', 'v61_0']\n",
    "\n",
    "new_data[cols] = new_data[cols].applymap(np.int64)"
   ]
  },
  {
   "cell_type": "markdown",
   "metadata": {},
   "source": [
    "## Start preprocessing of different concepts "
   ]
  },
  {
   "cell_type": "code",
   "execution_count": 50,
   "metadata": {},
   "outputs": [],
   "source": [
    "#v46 - generalized social trust\n",
    "trp = new_data.loc[:, ('ID','v46_b','v46_c','v46_e')]\n",
    "trg = new_data.loc[:, ('ID','v46_a','v46_d','v46_f','v46_g')] #dataframe with the correct scores"
   ]
  },
  {
   "cell_type": "code",
   "execution_count": 51,
   "metadata": {},
   "outputs": [
    {
     "name": "stdout",
     "output_type": "stream",
     "text": [
      "Completed\n"
     ]
    }
   ],
   "source": [
    "# for loop to code polarisation\n",
    "for i in range(len(trp['v46_b'])):\n",
    "    if i == len(trp['v46_b'])-1:\n",
    "        print('Completed')\n",
    "        break\n",
    "    else:     \n",
    "        if trp.loc[i, 'v46_b'] == 1:\n",
    "            trp.loc[i, 'v46_b'] = 5\n",
    "        elif trp.loc[i, 'v46_b'] == 2:         \n",
    "            trp.loc[i, 'v46_b'] = 4\n",
    "        elif trp.loc[i, 'v46_b'] == 4:         \n",
    "            trp.loc[i,  'v46_b'] = 2\n",
    "        elif trp.loc[i, 'v46_b'] == 5:         \n",
    "            trp.loc[i, 'v46_b'] = 1"
   ]
  },
  {
   "cell_type": "code",
   "execution_count": 52,
   "metadata": {},
   "outputs": [
    {
     "name": "stdout",
     "output_type": "stream",
     "text": [
      "Completed\n"
     ]
    }
   ],
   "source": [
    "# for loop to code polarisation\n",
    "for i in range(len(trp['v46_c'])):\n",
    "    if i == len(trp['v46_c'])-1:\n",
    "        print('Completed')\n",
    "        break\n",
    "    else:        \n",
    "        if trp.loc[i, 'v46_c'] == 1:\n",
    "            trp.loc[i, 'v46_c'] = 5\n",
    "        elif trp.loc[i, 'v46_c'] == 2:         \n",
    "            trp.loc[i, 'v46_c'] = 4\n",
    "        elif trp.loc[i, 'v46_c'] == 4:         \n",
    "            trp.loc[i,  'v46_c'] = 2\n",
    "        elif trp.loc[i, 'v46_c'] == 5:         \n",
    "            trp.loc[i, 'v46_c'] = 1"
   ]
  },
  {
   "cell_type": "code",
   "execution_count": 53,
   "metadata": {},
   "outputs": [
    {
     "name": "stdout",
     "output_type": "stream",
     "text": [
      "Completed\n"
     ]
    }
   ],
   "source": [
    "# for loop to code polarisation\n",
    "for i in range(len(trp['v46_e'])):\n",
    "    if i == len(trp['v46_e'])-1:\n",
    "        print('Completed')\n",
    "        break\n",
    "    else:       \n",
    "        if trp.loc[i, 'v46_e'] == 1:\n",
    "            trp.loc[i, 'v46_e'] = 5\n",
    "        elif trp.loc[i, 'v46_e'] == 2:         \n",
    "            trp.loc[i, 'v46_e'] = 4\n",
    "        elif trp.loc[i, 'v46_e'] == 4:         \n",
    "            trp.loc[i,  'v46_e'] = 2\n",
    "        elif trp.loc[i, 'v46_e'] == 5:         \n",
    "            trp.loc[i, 'v46_e'] = 1"
   ]
  },
  {
   "cell_type": "code",
   "execution_count": 69,
   "metadata": {},
   "outputs": [],
   "source": [
    "#merge dataframes\n",
    "tr = pd.merge(trp, trg, how='left', on=['ID'])"
   ]
  },
  {
   "cell_type": "code",
   "execution_count": 70,
   "metadata": {},
   "outputs": [],
   "source": [
    "tr['v46']=tr['v46_b'] + tr['v46_c']+ tr['v46_e'] + tr['v46_a'] + tr['v46_d'] + tr['v46_f'] + tr['v46_g']"
   ]
  },
  {
   "cell_type": "code",
   "execution_count": 72,
   "metadata": {},
   "outputs": [],
   "source": [
    "trs = tr.loc[:,('ID','v46')]"
   ]
  },
  {
   "cell_type": "code",
   "execution_count": 74,
   "metadata": {},
   "outputs": [],
   "source": [
    "#v47 - self-perceived health\n",
    "hvp = new_data.loc[:, ('ID','v47_a','v47_c')]\n",
    "hvg = new_data.loc[:, ('ID','v47_b','v47_d',)] #dataframe with correct scores"
   ]
  },
  {
   "cell_type": "code",
   "execution_count": 75,
   "metadata": {},
   "outputs": [
    {
     "name": "stdout",
     "output_type": "stream",
     "text": [
      "Completed\n",
      "Completed\n"
     ]
    }
   ],
   "source": [
    "# for loop to code polarisation\n",
    "for i in range(len(hvp['v47_a'])):\n",
    "    if i == len(hvp['v47_a'])-1:\n",
    "        print('Completed')\n",
    "        break\n",
    "    else:     \n",
    "        if hvp.loc[i, 'v47_a'] == 1:\n",
    "            hvp.loc[i, 'v47_a'] = 5\n",
    "        elif hvp.loc[i, 'v47_a'] == 2:         \n",
    "            hvp.loc[i, 'v47_a'] = 4\n",
    "        elif hvp.loc[i, 'v47_a'] == 4:         \n",
    "            hvp.loc[i,  'v47_a'] = 2\n",
    "        elif hvp.loc[i, 'v47_a'] == 5:         \n",
    "            hvp.loc[i, 'v47_a'] = 1\n",
    "            \n",
    "for i in range(len(hvp['v47_c'])):\n",
    "    if i == len(hvp['v47_c'])-1:\n",
    "        print('Completed')\n",
    "        break\n",
    "    else:     \n",
    "        if hvp.loc[i, 'v47_c'] == 1:\n",
    "            hvp.loc[i, 'v47_c'] = 5\n",
    "        elif hvp.loc[i, 'v47_c'] == 2:         \n",
    "            hvp.loc[i, 'v47_c'] = 4\n",
    "        elif hvp.loc[i, 'v47_c'] == 4:         \n",
    "            hvp.loc[i,  'v47_c'] = 2\n",
    "        elif hvp.loc[i, 'v47_c'] == 5:         \n",
    "            hvp.loc[i, 'v47_c'] = 1"
   ]
  },
  {
   "cell_type": "code",
   "execution_count": 76,
   "metadata": {},
   "outputs": [],
   "source": [
    "#merge DFs\n",
    "hv = pd.merge(hvp, hvg, how='left', on=['ID'])\n"
   ]
  },
  {
   "cell_type": "code",
   "execution_count": 78,
   "metadata": {},
   "outputs": [],
   "source": [
    "#calculate sum score\n",
    "hv['v47']=hv['v47_a'] + hv['v47_b']+ hv['v47_c'] + hv['v47_d']"
   ]
  },
  {
   "cell_type": "code",
   "execution_count": 79,
   "metadata": {},
   "outputs": [],
   "source": [
    "#keep the right things\n",
    "hvs = hv.loc[:,('ID','v47')]"
   ]
  },
  {
   "cell_type": "code",
   "execution_count": 81,
   "metadata": {},
   "outputs": [],
   "source": [
    "#v20_a t/m c: cognitive attitude: I find giving blood.. \n",
    "cap = new_data.loc[:, ('ID','v20_b')]\n",
    "cag = new_data.loc[:, ('ID','v20_a','v20_c')] #dataframe met alle goede scores, maar nog meerdere regels per ID"
   ]
  },
  {
   "cell_type": "code",
   "execution_count": 82,
   "metadata": {},
   "outputs": [
    {
     "name": "stdout",
     "output_type": "stream",
     "text": [
      "Completed\n"
     ]
    }
   ],
   "source": [
    "# for loop to recode polarisation\n",
    "for i in range(len(cap['v20_b'])):\n",
    "    if i == len(cap['v20_b'])-1:\n",
    "        print('Completed')\n",
    "        break\n",
    "    else:     \n",
    "        if cap.loc[i, 'v20_b'] == 1:\n",
    "            cap.loc[i, 'v20_b'] = 5\n",
    "        elif cap.loc[i, 'v20_b'] == 2:         \n",
    "            cap.loc[i, 'v20_b'] = 4\n",
    "        elif cap.loc[i, 'v20_b'] == 4:         \n",
    "            cap.loc[i,  'v20_b'] = 2\n",
    "        elif cap.loc[i, 'v20_b'] == 5:         \n",
    "            cap.loc[i, 'v20_b'] = 1"
   ]
  },
  {
   "cell_type": "code",
   "execution_count": 83,
   "metadata": {},
   "outputs": [],
   "source": [
    "#merge DFs\n",
    "ca = pd.merge(cap, cag, how='left', on=['ID'])"
   ]
  },
  {
   "cell_type": "code",
   "execution_count": 84,
   "metadata": {},
   "outputs": [],
   "source": [
    "#sum score\n",
    "ca['v20cog']=ca['v20_a'] + ca['v20_b']+ ca['v20_c']"
   ]
  },
  {
   "cell_type": "code",
   "execution_count": 85,
   "metadata": {},
   "outputs": [],
   "source": [
    "#keep whats needed\n",
    "cas = ca.loc[:,('ID','v20cog')]"
   ]
  },
  {
   "cell_type": "code",
   "execution_count": 87,
   "metadata": {},
   "outputs": [],
   "source": [
    "#v20_d t/m f: affective attitude I find giving blood.. \n",
    "aap = new_data.loc[:, ('ID','v20_d')]\n",
    "aag = new_data.loc[:, ('ID','v20_e','v20_f')] #keep dataframe"
   ]
  },
  {
   "cell_type": "code",
   "execution_count": 88,
   "metadata": {},
   "outputs": [
    {
     "name": "stdout",
     "output_type": "stream",
     "text": [
      "Completed\n"
     ]
    }
   ],
   "source": [
    "# for loop to recode polarisation\n",
    "for i in range(len(aap['v20_d'])):\n",
    "    if i == len(aap['v20_d'])-1:\n",
    "        print('Completed')\n",
    "        break\n",
    "    else:     \n",
    "        if aap.loc[i, 'v20_d'] == 1:\n",
    "            aap.loc[i, 'v20_d'] = 5\n",
    "        elif aap.loc[i, 'v20_d'] == 2:         \n",
    "            aap.loc[i, 'v20_d'] = 4\n",
    "        elif aap.loc[i, 'v20_d'] == 4:         \n",
    "            aap.loc[i,  'v20_d'] = 2\n",
    "        elif aap.loc[i, 'v20_d'] == 5:         \n",
    "            aap.loc[i, 'v20_d'] = 1"
   ]
  },
  {
   "cell_type": "code",
   "execution_count": 89,
   "metadata": {},
   "outputs": [],
   "source": [
    "#merge dataframes\n",
    "aa = pd.merge(aap, aag, how='left', on=['ID'])"
   ]
  },
  {
   "cell_type": "code",
   "execution_count": 90,
   "metadata": {},
   "outputs": [],
   "source": [
    "#calculate sumscore\n",
    "aa['v20af']=aa['v20_d'] + aa['v20_e']+ aa['v20_f']"
   ]
  },
  {
   "cell_type": "code",
   "execution_count": 91,
   "metadata": {},
   "outputs": [],
   "source": [
    "#keep whats needed\n",
    "aas = aa.loc[:,('ID','v20af')]"
   ]
  },
  {
   "cell_type": "code",
   "execution_count": 93,
   "metadata": {},
   "outputs": [],
   "source": [
    "#D2_v21 meet de 4 concepten van TBP: intention, self-efficacy, subjective norm & moral norm \n",
    "\n",
    "#intention: D2_v21 i & k > no recoding \n",
    "v21_int = new_data.loc[:, ('ID','v21_i','v21_k')] #correct df\n",
    "\n",
    "#subjective norm: v21 a & h > no recoding\n",
    "v21_sn = new_data.loc[:, ('ID','v21_a','v21_h')]\n",
    "\n",
    "#moral norm: v21 c, d & m > no recoding\n",
    "v21_mn = new_data.loc[:, ('ID','v21_c','v21_d','v21_m')]"
   ]
  },
  {
   "cell_type": "code",
   "execution_count": 94,
   "metadata": {},
   "outputs": [],
   "source": [
    "#sum score\n",
    "v21_int['v21_int']=v21_int['v21_i'] + v21_int['v21_k']\n",
    "v21_sn['v21_sn']=v21_sn['v21_a'] + v21_sn['v21_h']\n",
    "v21_mn['v21_mn']=v21_mn['v21_c'] + v21_mn['v21_d']+ v21_mn['v21_m']\n"
   ]
  },
  {
   "cell_type": "code",
   "execution_count": 95,
   "metadata": {},
   "outputs": [],
   "source": [
    "#keep correct dfs\n",
    "ints = v21_int.loc[:,('ID','v21_int')]\n",
    "sns = v21_sn.loc[:,('ID','v21_sn')]\n",
    "mns = v21_mn.loc[:,('ID','v21_mn')]"
   ]
  },
  {
   "cell_type": "code",
   "execution_count": 99,
   "metadata": {},
   "outputs": [],
   "source": [
    "#v21 self-efficacy: bfn. b needs recoding\n",
    "sep = new_data.loc[:, ('ID','v21_b')]\n",
    "seg = new_data.loc[:, ('ID','v21_f','v21_n')]"
   ]
  },
  {
   "cell_type": "code",
   "execution_count": 100,
   "metadata": {},
   "outputs": [
    {
     "name": "stdout",
     "output_type": "stream",
     "text": [
      "Completed\n"
     ]
    }
   ],
   "source": [
    "# for loop to recode polarisation\n",
    "for i in range(len(sep['v21_b'])):\n",
    "    if i == len(sep['v21_b'])-1:\n",
    "        print('Completed')\n",
    "        break\n",
    "    else:     \n",
    "        if sep.loc[i, 'v21_b'] == 1:\n",
    "            sep.loc[i, 'v21_b'] = 5\n",
    "        elif sep.loc[i, 'v21_b'] == 2:         \n",
    "            sep.loc[i, 'v21_b'] = 4\n",
    "        elif sep.loc[i, 'v21_b'] == 4:         \n",
    "            sep.loc[i,  'v21_b'] = 2\n",
    "        elif sep.loc[i, 'v21_b'] == 5:         \n",
    "            sep.loc[i, 'v21_b'] = 1"
   ]
  },
  {
   "cell_type": "code",
   "execution_count": 101,
   "metadata": {},
   "outputs": [],
   "source": [
    "#merge df\n",
    "se = pd.merge(sep, seg, how='left', on=['ID'])"
   ]
  },
  {
   "cell_type": "code",
   "execution_count": 102,
   "metadata": {},
   "outputs": [],
   "source": [
    "#sum\n",
    "se['v20ses']=se['v21_b'] + se['v21_f']+ se['v21_n']"
   ]
  },
  {
   "cell_type": "code",
   "execution_count": 103,
   "metadata": {},
   "outputs": [],
   "source": [
    "#keep whats needed\n",
    "ses = se.loc[:,('ID','v20ses')]"
   ]
  },
  {
   "cell_type": "code",
   "execution_count": 113,
   "metadata": {},
   "outputs": [],
   "source": [
    "#medicine use\n",
    "mgz = new_data.loc[:, ('ID','v52_a','v52_b','v52_c','v52_d','v52_e','v52_f','v52_j','v52_k','v52_l')] "
   ]
  },
  {
   "cell_type": "code",
   "execution_count": 118,
   "metadata": {},
   "outputs": [
    {
     "data": {
      "text/html": [
       "<div>\n",
       "<table border=\"1\" class=\"dataframe\">\n",
       "  <thead>\n",
       "    <tr style=\"text-align: right;\">\n",
       "      <th></th>\n",
       "      <th>ID</th>\n",
       "      <th>v52_a</th>\n",
       "      <th>v52_b</th>\n",
       "      <th>v52_c</th>\n",
       "      <th>v52_d</th>\n",
       "      <th>v52_e</th>\n",
       "      <th>v52_f</th>\n",
       "      <th>v52_j</th>\n",
       "      <th>v52_k</th>\n",
       "      <th>v52_l</th>\n",
       "    </tr>\n",
       "  </thead>\n",
       "  <tbody>\n",
       "    <tr>\n",
       "      <th>0</th>\n",
       "      <td>3</td>\n",
       "      <td>0</td>\n",
       "      <td>0</td>\n",
       "      <td>0</td>\n",
       "      <td>0</td>\n",
       "      <td>0</td>\n",
       "      <td>0</td>\n",
       "      <td>0</td>\n",
       "      <td>0</td>\n",
       "      <td>0</td>\n",
       "    </tr>\n",
       "    <tr>\n",
       "      <th>1</th>\n",
       "      <td>4</td>\n",
       "      <td>0</td>\n",
       "      <td>0</td>\n",
       "      <td>0</td>\n",
       "      <td>0</td>\n",
       "      <td>0</td>\n",
       "      <td>0</td>\n",
       "      <td>0</td>\n",
       "      <td>0</td>\n",
       "      <td>0</td>\n",
       "    </tr>\n",
       "    <tr>\n",
       "      <th>2</th>\n",
       "      <td>7</td>\n",
       "      <td>0</td>\n",
       "      <td>0</td>\n",
       "      <td>0</td>\n",
       "      <td>0</td>\n",
       "      <td>0</td>\n",
       "      <td>0</td>\n",
       "      <td>0</td>\n",
       "      <td>0</td>\n",
       "      <td>0</td>\n",
       "    </tr>\n",
       "    <tr>\n",
       "      <th>3</th>\n",
       "      <td>8</td>\n",
       "      <td>0</td>\n",
       "      <td>0</td>\n",
       "      <td>0</td>\n",
       "      <td>0</td>\n",
       "      <td>0</td>\n",
       "      <td>0</td>\n",
       "      <td>0</td>\n",
       "      <td>0</td>\n",
       "      <td>0</td>\n",
       "    </tr>\n",
       "    <tr>\n",
       "      <th>4</th>\n",
       "      <td>9</td>\n",
       "      <td>0</td>\n",
       "      <td>0</td>\n",
       "      <td>0</td>\n",
       "      <td>1</td>\n",
       "      <td>0</td>\n",
       "      <td>0</td>\n",
       "      <td>0</td>\n",
       "      <td>0</td>\n",
       "      <td>0</td>\n",
       "    </tr>\n",
       "    <tr>\n",
       "      <th>5</th>\n",
       "      <td>11</td>\n",
       "      <td>0</td>\n",
       "      <td>0</td>\n",
       "      <td>0</td>\n",
       "      <td>0</td>\n",
       "      <td>0</td>\n",
       "      <td>0</td>\n",
       "      <td>0</td>\n",
       "      <td>0</td>\n",
       "      <td>0</td>\n",
       "    </tr>\n",
       "    <tr>\n",
       "      <th>6</th>\n",
       "      <td>12</td>\n",
       "      <td>0</td>\n",
       "      <td>0</td>\n",
       "      <td>0</td>\n",
       "      <td>0</td>\n",
       "      <td>0</td>\n",
       "      <td>0</td>\n",
       "      <td>0</td>\n",
       "      <td>0</td>\n",
       "      <td>0</td>\n",
       "    </tr>\n",
       "    <tr>\n",
       "      <th>7</th>\n",
       "      <td>13</td>\n",
       "      <td>0</td>\n",
       "      <td>0</td>\n",
       "      <td>0</td>\n",
       "      <td>0</td>\n",
       "      <td>0</td>\n",
       "      <td>0</td>\n",
       "      <td>0</td>\n",
       "      <td>0</td>\n",
       "      <td>0</td>\n",
       "    </tr>\n",
       "    <tr>\n",
       "      <th>8</th>\n",
       "      <td>18</td>\n",
       "      <td>0</td>\n",
       "      <td>0</td>\n",
       "      <td>0</td>\n",
       "      <td>0</td>\n",
       "      <td>0</td>\n",
       "      <td>0</td>\n",
       "      <td>1</td>\n",
       "      <td>0</td>\n",
       "      <td>0</td>\n",
       "    </tr>\n",
       "    <tr>\n",
       "      <th>9</th>\n",
       "      <td>20</td>\n",
       "      <td>0</td>\n",
       "      <td>0</td>\n",
       "      <td>0</td>\n",
       "      <td>0</td>\n",
       "      <td>0</td>\n",
       "      <td>0</td>\n",
       "      <td>0</td>\n",
       "      <td>0</td>\n",
       "      <td>0</td>\n",
       "    </tr>\n",
       "    <tr>\n",
       "      <th>10</th>\n",
       "      <td>22</td>\n",
       "      <td>0</td>\n",
       "      <td>0</td>\n",
       "      <td>0</td>\n",
       "      <td>1</td>\n",
       "      <td>0</td>\n",
       "      <td>0</td>\n",
       "      <td>0</td>\n",
       "      <td>0</td>\n",
       "      <td>0</td>\n",
       "    </tr>\n",
       "    <tr>\n",
       "      <th>11</th>\n",
       "      <td>23</td>\n",
       "      <td>0</td>\n",
       "      <td>0</td>\n",
       "      <td>0</td>\n",
       "      <td>0</td>\n",
       "      <td>0</td>\n",
       "      <td>0</td>\n",
       "      <td>0</td>\n",
       "      <td>0</td>\n",
       "      <td>0</td>\n",
       "    </tr>\n",
       "    <tr>\n",
       "      <th>12</th>\n",
       "      <td>25</td>\n",
       "      <td>0</td>\n",
       "      <td>0</td>\n",
       "      <td>0</td>\n",
       "      <td>1</td>\n",
       "      <td>0</td>\n",
       "      <td>0</td>\n",
       "      <td>0</td>\n",
       "      <td>0</td>\n",
       "      <td>0</td>\n",
       "    </tr>\n",
       "    <tr>\n",
       "      <th>13</th>\n",
       "      <td>27</td>\n",
       "      <td>0</td>\n",
       "      <td>0</td>\n",
       "      <td>0</td>\n",
       "      <td>0</td>\n",
       "      <td>0</td>\n",
       "      <td>0</td>\n",
       "      <td>1</td>\n",
       "      <td>0</td>\n",
       "      <td>0</td>\n",
       "    </tr>\n",
       "    <tr>\n",
       "      <th>14</th>\n",
       "      <td>28</td>\n",
       "      <td>0</td>\n",
       "      <td>0</td>\n",
       "      <td>0</td>\n",
       "      <td>0</td>\n",
       "      <td>0</td>\n",
       "      <td>0</td>\n",
       "      <td>0</td>\n",
       "      <td>0</td>\n",
       "      <td>0</td>\n",
       "    </tr>\n",
       "    <tr>\n",
       "      <th>15</th>\n",
       "      <td>30</td>\n",
       "      <td>0</td>\n",
       "      <td>0</td>\n",
       "      <td>0</td>\n",
       "      <td>0</td>\n",
       "      <td>0</td>\n",
       "      <td>0</td>\n",
       "      <td>0</td>\n",
       "      <td>0</td>\n",
       "      <td>0</td>\n",
       "    </tr>\n",
       "    <tr>\n",
       "      <th>16</th>\n",
       "      <td>32</td>\n",
       "      <td>0</td>\n",
       "      <td>0</td>\n",
       "      <td>0</td>\n",
       "      <td>0</td>\n",
       "      <td>0</td>\n",
       "      <td>0</td>\n",
       "      <td>0</td>\n",
       "      <td>0</td>\n",
       "      <td>1</td>\n",
       "    </tr>\n",
       "    <tr>\n",
       "      <th>17</th>\n",
       "      <td>33</td>\n",
       "      <td>0</td>\n",
       "      <td>0</td>\n",
       "      <td>0</td>\n",
       "      <td>0</td>\n",
       "      <td>0</td>\n",
       "      <td>0</td>\n",
       "      <td>0</td>\n",
       "      <td>0</td>\n",
       "      <td>1</td>\n",
       "    </tr>\n",
       "    <tr>\n",
       "      <th>18</th>\n",
       "      <td>37</td>\n",
       "      <td>0</td>\n",
       "      <td>0</td>\n",
       "      <td>0</td>\n",
       "      <td>1</td>\n",
       "      <td>1</td>\n",
       "      <td>0</td>\n",
       "      <td>0</td>\n",
       "      <td>0</td>\n",
       "      <td>0</td>\n",
       "    </tr>\n",
       "    <tr>\n",
       "      <th>19</th>\n",
       "      <td>38</td>\n",
       "      <td>0</td>\n",
       "      <td>0</td>\n",
       "      <td>0</td>\n",
       "      <td>0</td>\n",
       "      <td>0</td>\n",
       "      <td>0</td>\n",
       "      <td>0</td>\n",
       "      <td>0</td>\n",
       "      <td>0</td>\n",
       "    </tr>\n",
       "    <tr>\n",
       "      <th>20</th>\n",
       "      <td>39</td>\n",
       "      <td>0</td>\n",
       "      <td>0</td>\n",
       "      <td>0</td>\n",
       "      <td>0</td>\n",
       "      <td>0</td>\n",
       "      <td>0</td>\n",
       "      <td>0</td>\n",
       "      <td>0</td>\n",
       "      <td>0</td>\n",
       "    </tr>\n",
       "    <tr>\n",
       "      <th>21</th>\n",
       "      <td>40</td>\n",
       "      <td>0</td>\n",
       "      <td>0</td>\n",
       "      <td>0</td>\n",
       "      <td>0</td>\n",
       "      <td>0</td>\n",
       "      <td>0</td>\n",
       "      <td>0</td>\n",
       "      <td>0</td>\n",
       "      <td>0</td>\n",
       "    </tr>\n",
       "    <tr>\n",
       "      <th>22</th>\n",
       "      <td>41</td>\n",
       "      <td>0</td>\n",
       "      <td>0</td>\n",
       "      <td>0</td>\n",
       "      <td>0</td>\n",
       "      <td>0</td>\n",
       "      <td>0</td>\n",
       "      <td>0</td>\n",
       "      <td>0</td>\n",
       "      <td>0</td>\n",
       "    </tr>\n",
       "    <tr>\n",
       "      <th>23</th>\n",
       "      <td>44</td>\n",
       "      <td>0</td>\n",
       "      <td>0</td>\n",
       "      <td>0</td>\n",
       "      <td>0</td>\n",
       "      <td>0</td>\n",
       "      <td>0</td>\n",
       "      <td>0</td>\n",
       "      <td>0</td>\n",
       "      <td>0</td>\n",
       "    </tr>\n",
       "    <tr>\n",
       "      <th>24</th>\n",
       "      <td>46</td>\n",
       "      <td>0</td>\n",
       "      <td>1</td>\n",
       "      <td>0</td>\n",
       "      <td>1</td>\n",
       "      <td>0</td>\n",
       "      <td>0</td>\n",
       "      <td>0</td>\n",
       "      <td>0</td>\n",
       "      <td>0</td>\n",
       "    </tr>\n",
       "    <tr>\n",
       "      <th>25</th>\n",
       "      <td>49</td>\n",
       "      <td>0</td>\n",
       "      <td>0</td>\n",
       "      <td>0</td>\n",
       "      <td>0</td>\n",
       "      <td>0</td>\n",
       "      <td>0</td>\n",
       "      <td>0</td>\n",
       "      <td>0</td>\n",
       "      <td>0</td>\n",
       "    </tr>\n",
       "    <tr>\n",
       "      <th>26</th>\n",
       "      <td>50</td>\n",
       "      <td>0</td>\n",
       "      <td>0</td>\n",
       "      <td>0</td>\n",
       "      <td>0</td>\n",
       "      <td>0</td>\n",
       "      <td>0</td>\n",
       "      <td>0</td>\n",
       "      <td>0</td>\n",
       "      <td>0</td>\n",
       "    </tr>\n",
       "    <tr>\n",
       "      <th>27</th>\n",
       "      <td>51</td>\n",
       "      <td>0</td>\n",
       "      <td>0</td>\n",
       "      <td>0</td>\n",
       "      <td>0</td>\n",
       "      <td>0</td>\n",
       "      <td>0</td>\n",
       "      <td>0</td>\n",
       "      <td>0</td>\n",
       "      <td>0</td>\n",
       "    </tr>\n",
       "    <tr>\n",
       "      <th>28</th>\n",
       "      <td>52</td>\n",
       "      <td>0</td>\n",
       "      <td>0</td>\n",
       "      <td>0</td>\n",
       "      <td>0</td>\n",
       "      <td>0</td>\n",
       "      <td>0</td>\n",
       "      <td>0</td>\n",
       "      <td>0</td>\n",
       "      <td>0</td>\n",
       "    </tr>\n",
       "    <tr>\n",
       "      <th>29</th>\n",
       "      <td>54</td>\n",
       "      <td>0</td>\n",
       "      <td>0</td>\n",
       "      <td>0</td>\n",
       "      <td>0</td>\n",
       "      <td>0</td>\n",
       "      <td>0</td>\n",
       "      <td>0</td>\n",
       "      <td>0</td>\n",
       "      <td>0</td>\n",
       "    </tr>\n",
       "    <tr>\n",
       "      <th>...</th>\n",
       "      <td>...</td>\n",
       "      <td>...</td>\n",
       "      <td>...</td>\n",
       "      <td>...</td>\n",
       "      <td>...</td>\n",
       "      <td>...</td>\n",
       "      <td>...</td>\n",
       "      <td>...</td>\n",
       "      <td>...</td>\n",
       "      <td>...</td>\n",
       "    </tr>\n",
       "    <tr>\n",
       "      <th>12829</th>\n",
       "      <td>22079</td>\n",
       "      <td>0</td>\n",
       "      <td>0</td>\n",
       "      <td>0</td>\n",
       "      <td>0</td>\n",
       "      <td>0</td>\n",
       "      <td>0</td>\n",
       "      <td>0</td>\n",
       "      <td>0</td>\n",
       "      <td>0</td>\n",
       "    </tr>\n",
       "    <tr>\n",
       "      <th>12830</th>\n",
       "      <td>22082</td>\n",
       "      <td>0</td>\n",
       "      <td>0</td>\n",
       "      <td>0</td>\n",
       "      <td>0</td>\n",
       "      <td>0</td>\n",
       "      <td>0</td>\n",
       "      <td>0</td>\n",
       "      <td>0</td>\n",
       "      <td>0</td>\n",
       "    </tr>\n",
       "    <tr>\n",
       "      <th>12831</th>\n",
       "      <td>22083</td>\n",
       "      <td>0</td>\n",
       "      <td>1</td>\n",
       "      <td>0</td>\n",
       "      <td>0</td>\n",
       "      <td>0</td>\n",
       "      <td>0</td>\n",
       "      <td>0</td>\n",
       "      <td>0</td>\n",
       "      <td>0</td>\n",
       "    </tr>\n",
       "    <tr>\n",
       "      <th>12832</th>\n",
       "      <td>22084</td>\n",
       "      <td>0</td>\n",
       "      <td>0</td>\n",
       "      <td>0</td>\n",
       "      <td>0</td>\n",
       "      <td>0</td>\n",
       "      <td>0</td>\n",
       "      <td>0</td>\n",
       "      <td>0</td>\n",
       "      <td>1</td>\n",
       "    </tr>\n",
       "    <tr>\n",
       "      <th>12833</th>\n",
       "      <td>22085</td>\n",
       "      <td>0</td>\n",
       "      <td>0</td>\n",
       "      <td>0</td>\n",
       "      <td>0</td>\n",
       "      <td>0</td>\n",
       "      <td>0</td>\n",
       "      <td>0</td>\n",
       "      <td>0</td>\n",
       "      <td>0</td>\n",
       "    </tr>\n",
       "    <tr>\n",
       "      <th>12834</th>\n",
       "      <td>22089</td>\n",
       "      <td>0</td>\n",
       "      <td>0</td>\n",
       "      <td>0</td>\n",
       "      <td>0</td>\n",
       "      <td>0</td>\n",
       "      <td>0</td>\n",
       "      <td>0</td>\n",
       "      <td>0</td>\n",
       "      <td>0</td>\n",
       "    </tr>\n",
       "    <tr>\n",
       "      <th>12835</th>\n",
       "      <td>22091</td>\n",
       "      <td>0</td>\n",
       "      <td>0</td>\n",
       "      <td>0</td>\n",
       "      <td>0</td>\n",
       "      <td>0</td>\n",
       "      <td>0</td>\n",
       "      <td>0</td>\n",
       "      <td>0</td>\n",
       "      <td>0</td>\n",
       "    </tr>\n",
       "    <tr>\n",
       "      <th>12836</th>\n",
       "      <td>22094</td>\n",
       "      <td>0</td>\n",
       "      <td>0</td>\n",
       "      <td>0</td>\n",
       "      <td>0</td>\n",
       "      <td>0</td>\n",
       "      <td>0</td>\n",
       "      <td>0</td>\n",
       "      <td>0</td>\n",
       "      <td>0</td>\n",
       "    </tr>\n",
       "    <tr>\n",
       "      <th>12837</th>\n",
       "      <td>22097</td>\n",
       "      <td>0</td>\n",
       "      <td>0</td>\n",
       "      <td>0</td>\n",
       "      <td>0</td>\n",
       "      <td>0</td>\n",
       "      <td>0</td>\n",
       "      <td>1</td>\n",
       "      <td>0</td>\n",
       "      <td>0</td>\n",
       "    </tr>\n",
       "    <tr>\n",
       "      <th>12838</th>\n",
       "      <td>22099</td>\n",
       "      <td>0</td>\n",
       "      <td>0</td>\n",
       "      <td>0</td>\n",
       "      <td>0</td>\n",
       "      <td>0</td>\n",
       "      <td>0</td>\n",
       "      <td>0</td>\n",
       "      <td>0</td>\n",
       "      <td>0</td>\n",
       "    </tr>\n",
       "    <tr>\n",
       "      <th>12839</th>\n",
       "      <td>22100</td>\n",
       "      <td>0</td>\n",
       "      <td>0</td>\n",
       "      <td>0</td>\n",
       "      <td>0</td>\n",
       "      <td>0</td>\n",
       "      <td>0</td>\n",
       "      <td>0</td>\n",
       "      <td>0</td>\n",
       "      <td>0</td>\n",
       "    </tr>\n",
       "    <tr>\n",
       "      <th>12840</th>\n",
       "      <td>22101</td>\n",
       "      <td>0</td>\n",
       "      <td>0</td>\n",
       "      <td>0</td>\n",
       "      <td>0</td>\n",
       "      <td>0</td>\n",
       "      <td>0</td>\n",
       "      <td>0</td>\n",
       "      <td>0</td>\n",
       "      <td>0</td>\n",
       "    </tr>\n",
       "    <tr>\n",
       "      <th>12841</th>\n",
       "      <td>22102</td>\n",
       "      <td>0</td>\n",
       "      <td>0</td>\n",
       "      <td>0</td>\n",
       "      <td>0</td>\n",
       "      <td>0</td>\n",
       "      <td>0</td>\n",
       "      <td>0</td>\n",
       "      <td>0</td>\n",
       "      <td>0</td>\n",
       "    </tr>\n",
       "    <tr>\n",
       "      <th>12842</th>\n",
       "      <td>22104</td>\n",
       "      <td>0</td>\n",
       "      <td>0</td>\n",
       "      <td>0</td>\n",
       "      <td>0</td>\n",
       "      <td>0</td>\n",
       "      <td>0</td>\n",
       "      <td>0</td>\n",
       "      <td>0</td>\n",
       "      <td>0</td>\n",
       "    </tr>\n",
       "    <tr>\n",
       "      <th>12843</th>\n",
       "      <td>22105</td>\n",
       "      <td>0</td>\n",
       "      <td>0</td>\n",
       "      <td>0</td>\n",
       "      <td>0</td>\n",
       "      <td>0</td>\n",
       "      <td>0</td>\n",
       "      <td>0</td>\n",
       "      <td>0</td>\n",
       "      <td>0</td>\n",
       "    </tr>\n",
       "    <tr>\n",
       "      <th>12844</th>\n",
       "      <td>22107</td>\n",
       "      <td>0</td>\n",
       "      <td>0</td>\n",
       "      <td>0</td>\n",
       "      <td>0</td>\n",
       "      <td>0</td>\n",
       "      <td>0</td>\n",
       "      <td>0</td>\n",
       "      <td>0</td>\n",
       "      <td>0</td>\n",
       "    </tr>\n",
       "    <tr>\n",
       "      <th>12845</th>\n",
       "      <td>22109</td>\n",
       "      <td>0</td>\n",
       "      <td>0</td>\n",
       "      <td>0</td>\n",
       "      <td>0</td>\n",
       "      <td>0</td>\n",
       "      <td>0</td>\n",
       "      <td>0</td>\n",
       "      <td>0</td>\n",
       "      <td>0</td>\n",
       "    </tr>\n",
       "    <tr>\n",
       "      <th>12846</th>\n",
       "      <td>22110</td>\n",
       "      <td>0</td>\n",
       "      <td>0</td>\n",
       "      <td>0</td>\n",
       "      <td>0</td>\n",
       "      <td>0</td>\n",
       "      <td>0</td>\n",
       "      <td>0</td>\n",
       "      <td>0</td>\n",
       "      <td>0</td>\n",
       "    </tr>\n",
       "    <tr>\n",
       "      <th>12847</th>\n",
       "      <td>22114</td>\n",
       "      <td>0</td>\n",
       "      <td>0</td>\n",
       "      <td>0</td>\n",
       "      <td>0</td>\n",
       "      <td>0</td>\n",
       "      <td>0</td>\n",
       "      <td>0</td>\n",
       "      <td>0</td>\n",
       "      <td>0</td>\n",
       "    </tr>\n",
       "    <tr>\n",
       "      <th>12848</th>\n",
       "      <td>22115</td>\n",
       "      <td>0</td>\n",
       "      <td>0</td>\n",
       "      <td>0</td>\n",
       "      <td>0</td>\n",
       "      <td>0</td>\n",
       "      <td>0</td>\n",
       "      <td>0</td>\n",
       "      <td>0</td>\n",
       "      <td>0</td>\n",
       "    </tr>\n",
       "    <tr>\n",
       "      <th>12849</th>\n",
       "      <td>22117</td>\n",
       "      <td>0</td>\n",
       "      <td>0</td>\n",
       "      <td>0</td>\n",
       "      <td>0</td>\n",
       "      <td>0</td>\n",
       "      <td>0</td>\n",
       "      <td>0</td>\n",
       "      <td>0</td>\n",
       "      <td>0</td>\n",
       "    </tr>\n",
       "    <tr>\n",
       "      <th>12850</th>\n",
       "      <td>22118</td>\n",
       "      <td>0</td>\n",
       "      <td>0</td>\n",
       "      <td>0</td>\n",
       "      <td>0</td>\n",
       "      <td>0</td>\n",
       "      <td>0</td>\n",
       "      <td>0</td>\n",
       "      <td>0</td>\n",
       "      <td>0</td>\n",
       "    </tr>\n",
       "    <tr>\n",
       "      <th>12851</th>\n",
       "      <td>22119</td>\n",
       "      <td>0</td>\n",
       "      <td>0</td>\n",
       "      <td>0</td>\n",
       "      <td>0</td>\n",
       "      <td>0</td>\n",
       "      <td>0</td>\n",
       "      <td>0</td>\n",
       "      <td>0</td>\n",
       "      <td>0</td>\n",
       "    </tr>\n",
       "    <tr>\n",
       "      <th>12852</th>\n",
       "      <td>22120</td>\n",
       "      <td>0</td>\n",
       "      <td>0</td>\n",
       "      <td>0</td>\n",
       "      <td>0</td>\n",
       "      <td>0</td>\n",
       "      <td>0</td>\n",
       "      <td>0</td>\n",
       "      <td>0</td>\n",
       "      <td>0</td>\n",
       "    </tr>\n",
       "    <tr>\n",
       "      <th>12853</th>\n",
       "      <td>22122</td>\n",
       "      <td>0</td>\n",
       "      <td>0</td>\n",
       "      <td>0</td>\n",
       "      <td>0</td>\n",
       "      <td>0</td>\n",
       "      <td>0</td>\n",
       "      <td>0</td>\n",
       "      <td>1</td>\n",
       "      <td>1</td>\n",
       "    </tr>\n",
       "    <tr>\n",
       "      <th>12854</th>\n",
       "      <td>22124</td>\n",
       "      <td>0</td>\n",
       "      <td>0</td>\n",
       "      <td>0</td>\n",
       "      <td>0</td>\n",
       "      <td>0</td>\n",
       "      <td>0</td>\n",
       "      <td>0</td>\n",
       "      <td>0</td>\n",
       "      <td>0</td>\n",
       "    </tr>\n",
       "    <tr>\n",
       "      <th>12855</th>\n",
       "      <td>22125</td>\n",
       "      <td>0</td>\n",
       "      <td>0</td>\n",
       "      <td>0</td>\n",
       "      <td>0</td>\n",
       "      <td>0</td>\n",
       "      <td>0</td>\n",
       "      <td>0</td>\n",
       "      <td>0</td>\n",
       "      <td>0</td>\n",
       "    </tr>\n",
       "    <tr>\n",
       "      <th>12856</th>\n",
       "      <td>22128</td>\n",
       "      <td>0</td>\n",
       "      <td>0</td>\n",
       "      <td>0</td>\n",
       "      <td>0</td>\n",
       "      <td>0</td>\n",
       "      <td>0</td>\n",
       "      <td>0</td>\n",
       "      <td>0</td>\n",
       "      <td>0</td>\n",
       "    </tr>\n",
       "    <tr>\n",
       "      <th>12857</th>\n",
       "      <td>22131</td>\n",
       "      <td>0</td>\n",
       "      <td>0</td>\n",
       "      <td>0</td>\n",
       "      <td>0</td>\n",
       "      <td>1</td>\n",
       "      <td>0</td>\n",
       "      <td>1</td>\n",
       "      <td>0</td>\n",
       "      <td>0</td>\n",
       "    </tr>\n",
       "    <tr>\n",
       "      <th>12858</th>\n",
       "      <td>22132</td>\n",
       "      <td>0</td>\n",
       "      <td>0</td>\n",
       "      <td>0</td>\n",
       "      <td>0</td>\n",
       "      <td>0</td>\n",
       "      <td>0</td>\n",
       "      <td>0</td>\n",
       "      <td>0</td>\n",
       "      <td>0</td>\n",
       "    </tr>\n",
       "  </tbody>\n",
       "</table>\n",
       "<p>12859 rows × 10 columns</p>\n",
       "</div>"
      ],
      "text/plain": [
       "          ID  v52_a  v52_b  v52_c  v52_d  v52_e  v52_f  v52_j  v52_k  v52_l\n",
       "0          3      0      0      0      0      0      0      0      0      0\n",
       "1          4      0      0      0      0      0      0      0      0      0\n",
       "2          7      0      0      0      0      0      0      0      0      0\n",
       "3          8      0      0      0      0      0      0      0      0      0\n",
       "4          9      0      0      0      1      0      0      0      0      0\n",
       "5         11      0      0      0      0      0      0      0      0      0\n",
       "6         12      0      0      0      0      0      0      0      0      0\n",
       "7         13      0      0      0      0      0      0      0      0      0\n",
       "8         18      0      0      0      0      0      0      1      0      0\n",
       "9         20      0      0      0      0      0      0      0      0      0\n",
       "10        22      0      0      0      1      0      0      0      0      0\n",
       "11        23      0      0      0      0      0      0      0      0      0\n",
       "12        25      0      0      0      1      0      0      0      0      0\n",
       "13        27      0      0      0      0      0      0      1      0      0\n",
       "14        28      0      0      0      0      0      0      0      0      0\n",
       "15        30      0      0      0      0      0      0      0      0      0\n",
       "16        32      0      0      0      0      0      0      0      0      1\n",
       "17        33      0      0      0      0      0      0      0      0      1\n",
       "18        37      0      0      0      1      1      0      0      0      0\n",
       "19        38      0      0      0      0      0      0      0      0      0\n",
       "20        39      0      0      0      0      0      0      0      0      0\n",
       "21        40      0      0      0      0      0      0      0      0      0\n",
       "22        41      0      0      0      0      0      0      0      0      0\n",
       "23        44      0      0      0      0      0      0      0      0      0\n",
       "24        46      0      1      0      1      0      0      0      0      0\n",
       "25        49      0      0      0      0      0      0      0      0      0\n",
       "26        50      0      0      0      0      0      0      0      0      0\n",
       "27        51      0      0      0      0      0      0      0      0      0\n",
       "28        52      0      0      0      0      0      0      0      0      0\n",
       "29        54      0      0      0      0      0      0      0      0      0\n",
       "...      ...    ...    ...    ...    ...    ...    ...    ...    ...    ...\n",
       "12829  22079      0      0      0      0      0      0      0      0      0\n",
       "12830  22082      0      0      0      0      0      0      0      0      0\n",
       "12831  22083      0      1      0      0      0      0      0      0      0\n",
       "12832  22084      0      0      0      0      0      0      0      0      1\n",
       "12833  22085      0      0      0      0      0      0      0      0      0\n",
       "12834  22089      0      0      0      0      0      0      0      0      0\n",
       "12835  22091      0      0      0      0      0      0      0      0      0\n",
       "12836  22094      0      0      0      0      0      0      0      0      0\n",
       "12837  22097      0      0      0      0      0      0      1      0      0\n",
       "12838  22099      0      0      0      0      0      0      0      0      0\n",
       "12839  22100      0      0      0      0      0      0      0      0      0\n",
       "12840  22101      0      0      0      0      0      0      0      0      0\n",
       "12841  22102      0      0      0      0      0      0      0      0      0\n",
       "12842  22104      0      0      0      0      0      0      0      0      0\n",
       "12843  22105      0      0      0      0      0      0      0      0      0\n",
       "12844  22107      0      0      0      0      0      0      0      0      0\n",
       "12845  22109      0      0      0      0      0      0      0      0      0\n",
       "12846  22110      0      0      0      0      0      0      0      0      0\n",
       "12847  22114      0      0      0      0      0      0      0      0      0\n",
       "12848  22115      0      0      0      0      0      0      0      0      0\n",
       "12849  22117      0      0      0      0      0      0      0      0      0\n",
       "12850  22118      0      0      0      0      0      0      0      0      0\n",
       "12851  22119      0      0      0      0      0      0      0      0      0\n",
       "12852  22120      0      0      0      0      0      0      0      0      0\n",
       "12853  22122      0      0      0      0      0      0      0      1      1\n",
       "12854  22124      0      0      0      0      0      0      0      0      0\n",
       "12855  22125      0      0      0      0      0      0      0      0      0\n",
       "12856  22128      0      0      0      0      0      0      0      0      0\n",
       "12857  22131      0      0      0      0      1      0      1      0      0\n",
       "12858  22132      0      0      0      0      0      0      0      0      0\n",
       "\n",
       "[12859 rows x 10 columns]"
      ]
     },
     "execution_count": 118,
     "metadata": {},
     "output_type": "execute_result"
    }
   ],
   "source": [
    "mgz"
   ]
  },
  {
   "cell_type": "code",
   "execution_count": 117,
   "metadata": {},
   "outputs": [],
   "source": [
    "#recode values\n",
    "mgz.iloc[:,[1,2,3,4,5,6,7,8,9]] = mgz.replace([3, 2], 0)"
   ]
  },
  {
   "cell_type": "code",
   "execution_count": 119,
   "metadata": {},
   "outputs": [],
   "source": [
    "#sum score\n",
    "mgz['v52mgz'] = mgz['v52_a'] + mgz['v52_b'] + mgz['v52_c'] + mgz['v52_d'] + mgz['v52_e'] + mgz['v52_f'] + mgz['v52_j'] + mgz['v52_k'] + mgz['v52_l']\n"
   ]
  },
  {
   "cell_type": "code",
   "execution_count": 120,
   "metadata": {},
   "outputs": [],
   "source": [
    "#keep whats needed\n",
    "mgzs = mgz.loc[:,('ID','v52mgz')]"
   ]
  },
  {
   "cell_type": "code",
   "execution_count": 158,
   "metadata": {},
   "outputs": [],
   "source": [
    "#v52_g t/m isleep, calming, depression . yes = 1, yes but not anymore & no, never from 2/3 to 0\n",
    "skd = new_data.loc[:, ('ID','v52_g','v52_h','v52_i')] "
   ]
  },
  {
   "cell_type": "code",
   "execution_count": 159,
   "metadata": {},
   "outputs": [],
   "source": [
    "#Recoden\n",
    "skd.iloc[:,[1,2,3]] = skd.replace([3, 2], 0)"
   ]
  },
  {
   "cell_type": "code",
   "execution_count": 126,
   "metadata": {},
   "outputs": [],
   "source": [
    "#v52_m t/m q supplements.  yes = 1, yes but not anymore & no, never recode from 2/3 to 0\n",
    "sg = new_data.loc[:, ('ID','v52_m','v52_n','v52_o','v52_p','v52_q')] "
   ]
  },
  {
   "cell_type": "code",
   "execution_count": 127,
   "metadata": {},
   "outputs": [],
   "source": [
    "#recoden\n",
    "sg.iloc[:,[1,2,3,4,5]] = sg.replace([3, 2], 0)"
   ]
  },
  {
   "cell_type": "code",
   "execution_count": 128,
   "metadata": {},
   "outputs": [],
   "source": [
    "#sum & merge\n",
    "sg['v52sg'] = sg['v52_m'] + sg['v52_n'] + sg['v52_o'] + sg['v52_p'] + sg['v52_q']"
   ]
  },
  {
   "cell_type": "code",
   "execution_count": 129,
   "metadata": {},
   "outputs": [],
   "source": [
    "#keep whats necessary"
   ]
  },
  {
   "cell_type": "code",
   "execution_count": 131,
   "metadata": {},
   "outputs": [],
   "source": [
    "#v61_0 is recode\n",
    "bdf = new_data.loc[:, ('ID','v61_0')] "
   ]
  },
  {
   "cell_type": "code",
   "execution_count": 133,
   "metadata": {},
   "outputs": [
    {
     "name": "stdout",
     "output_type": "stream",
     "text": [
      "Completed\n"
     ]
    }
   ],
   "source": [
    "# for loop to recode \n",
    "for i in range(len(bdf['v61_0'])):\n",
    "    if i == len(bdf['v61_0'])-1:\n",
    "        print('Completed')\n",
    "        break\n",
    "    else:     \n",
    "        if bdf.loc[i, 'v61_0'] == 1:\n",
    "            bdf.loc[i, 'v61_0'] = 0\n",
    "        elif bdf.loc[i, 'v61_0'] == 0:         \n",
    "            bdf.loc[i, 'v61_0'] = 1"
   ]
  },
  {
   "cell_type": "code",
   "execution_count": 135,
   "metadata": {},
   "outputs": [],
   "source": [
    "#v61_1 \n",
    "btf = new_data.loc[:, ('ID','v60_0')] "
   ]
  },
  {
   "cell_type": "code",
   "execution_count": 136,
   "metadata": {},
   "outputs": [
    {
     "name": "stdout",
     "output_type": "stream",
     "text": [
      "Completed\n"
     ]
    }
   ],
   "source": [
    "#recode\n",
    "for i in range(len(btf['v60_0'])):\n",
    "    if i == len(btf['v60_0'])-1:\n",
    "        print('Completed')\n",
    "        break\n",
    "    else:     \n",
    "        if btf.loc[i, 'v60_0'] == 1:\n",
    "            btf.loc[i, 'v60_0'] = 0\n",
    "        elif btf.loc[i, 'v60_0'] == 0:         \n",
    "            btf.loc[i, 'v60_0'] = 1"
   ]
  },
  {
   "cell_type": "code",
   "execution_count": 138,
   "metadata": {},
   "outputs": [],
   "source": [
    "#d15 side effects\n",
    "D2_v15 = new_data.loc[:, ('ID','D2_v15')] "
   ]
  },
  {
   "cell_type": "code",
   "execution_count": 140,
   "metadata": {},
   "outputs": [
    {
     "name": "stdout",
     "output_type": "stream",
     "text": [
      "Completed\n"
     ]
    }
   ],
   "source": [
    "#Recode\n",
    "for i in range(len(D2_v15['D2_v15'])):\n",
    "    if i == len(D2_v15['D2_v15'])-1:\n",
    "        print('Completed')\n",
    "        break\n",
    "    else:     \n",
    "        if D2_v15.loc[i, 'D2_v15'] > 1:\n",
    "            D2_v15.loc[i, 'D2_v15'] = 0"
   ]
  },
  {
   "cell_type": "code",
   "execution_count": 142,
   "metadata": {},
   "outputs": [],
   "source": [
    "D2_v16 = new_data.loc[:, ('ID', 'D2_v16_1',\n",
    "       'D2_v16_2', 'D2_v16_3', 'D2_v16_4', 'D2_v16_5', 'D2_v16_6',\n",
    "       'D2_v16_7', 'D2_v16_8', 'D2_v16_9', 'D2_v16_10', 'D2_v16_11',\n",
    "       'D2_v16_12')]"
   ]
  },
  {
   "cell_type": "code",
   "execution_count": 145,
   "metadata": {},
   "outputs": [],
   "source": [
    "#AgeDISparticpation\n",
    "AgeDIS = new_data.loc[:, ('ID','AgeDISParticipation')] "
   ]
  },
  {
   "cell_type": "code",
   "execution_count": 147,
   "metadata": {},
   "outputs": [],
   "source": [
    "#gender\n",
    "Gender = new_data.loc[:, ('ID','Gender')] "
   ]
  },
  {
   "cell_type": "code",
   "execution_count": 148,
   "metadata": {},
   "outputs": [],
   "source": [
    "#have you ever fainted during or immediately after giving blood? yes = 1, no = 2 > recode\n",
    "D2_v13 = new_data.loc[:, ('ID','D2_v13')] "
   ]
  },
  {
   "cell_type": "code",
   "execution_count": 149,
   "metadata": {},
   "outputs": [
    {
     "name": "stdout",
     "output_type": "stream",
     "text": [
      "Completed\n"
     ]
    }
   ],
   "source": [
    "#We maken een for loop om per variabele alles om te coderen per variabele\n",
    "for i in range(len(D2_v13['D2_v13'])):\n",
    "    if i == len(D2_v13['D2_v13'])-1:\n",
    "        print('Completed')\n",
    "        break\n",
    "    else:     \n",
    "        if D2_v13.loc[i, 'D2_v13'] > 1:\n",
    "            D2_v13.loc[i, 'D2_v13'] = 0"
   ]
  },
  {
   "cell_type": "code",
   "execution_count": 167,
   "metadata": {},
   "outputs": [],
   "source": [
    "#v12_a t/m d: previous deferral: iron, irregular pulse blood pressure\n",
    "v12 = new_data.loc[:, ('ID','v12_a','v12_b','v12_c', 'v12_d')] "
   ]
  },
  {
   "cell_type": "code",
   "execution_count": 168,
   "metadata": {},
   "outputs": [],
   "source": [
    "#Recoden\n",
    "v12.iloc[:,[1,2,3,4]] = v12.replace([2], 0)"
   ]
  },
  {
   "cell_type": "code",
   "execution_count": 161,
   "metadata": {},
   "outputs": [],
   "source": [
    "#Nrofpreviousdonations\n",
    "NrDon = new_data.loc[:, ('ID','NrPreviousDonations')] "
   ]
  },
  {
   "cell_type": "code",
   "execution_count": 162,
   "metadata": {},
   "outputs": [],
   "source": [
    "#Work_hours\n",
    "Workh = new_data.loc[:, ('ID','Work_hours')] "
   ]
  },
  {
   "cell_type": "code",
   "execution_count": 171,
   "metadata": {},
   "outputs": [],
   "source": [
    "#v29_1 do you smoke\n",
    "v29 = new_data.loc[:, ('ID','v29_1')] "
   ]
  },
  {
   "cell_type": "code",
   "execution_count": 172,
   "metadata": {},
   "outputs": [],
   "source": [
    "#Recoden\n",
    "v29.iloc[:,[1]] = v29.replace([2,3], 0)"
   ]
  },
  {
   "cell_type": "code",
   "execution_count": 175,
   "metadata": {},
   "outputs": [],
   "source": [
    "#v40_1 hours of sport a week\n",
    "sport = new_data.loc[:, ('ID','v40_1')] "
   ]
  },
  {
   "cell_type": "code",
   "execution_count": 190,
   "metadata": {},
   "outputs": [],
   "source": [
    "#v48 doctor visit, 1 is ja, 2 is nee > recode\n",
    "v48 = new_data.loc[:, ('ID', 'v48')] "
   ]
  },
  {
   "cell_type": "code",
   "execution_count": 191,
   "metadata": {},
   "outputs": [],
   "source": [
    "#Recoden\n",
    "v48.iloc[:,[1]] = v48.replace([2], 0)"
   ]
  },
  {
   "cell_type": "code",
   "execution_count": 180,
   "metadata": {},
   "outputs": [],
   "source": [
    "#df van de target variabele\n",
    "trouw = new_data.loc[:, ('ID','trouw_don')] "
   ]
  },
  {
   "cell_type": "code",
   "execution_count": 181,
   "metadata": {},
   "outputs": [
    {
     "data": {
      "text/plain": [
       "array(['ID', 'DaysbetweenDIS_Donation', 'trouw_don', 'NrPreviousDonations',\n",
       "       'Gender', 'AgeDISParticipation', 'Gewicht', 'Lengte',\n",
       "       'MaritalStatus', 'Household', 'Work_hours', 'D2_v10', 'D2_v11',\n",
       "       'v12_a', 'v12_b', 'v12_c', 'v12_d', 'D2_v13', 'D2_v15', 'D2_v16_1',\n",
       "       'D2_v16_2', 'D2_v16_3', 'D2_v16_4', 'D2_v16_5', 'D2_v16_6',\n",
       "       'D2_v16_7', 'D2_v16_8', 'D2_v16_9', 'D2_v16_10', 'D2_v16_11',\n",
       "       'D2_v16_12', 'v20_a', 'v20_b', 'v20_c', 'v20_d', 'v20_e', 'v20_f',\n",
       "       'v21_a', 'v21_b', 'v21_c', 'v21_d', 'v21_e', 'v21_f', 'v21_g',\n",
       "       'v21_h', 'v21_i', 'v21_j', 'v21_k', 'v21_l', 'v21_m', 'v21_n',\n",
       "       'v21_o', 'v29_1', 'v40_1', 'v46_a', 'v46_b', 'v46_c', 'v46_d',\n",
       "       'v46_e', 'v46_f', 'v46_g', 'v47_a', 'v47_b', 'v47_c', 'v47_d',\n",
       "       'v48', 'v52_a', 'v52_b', 'v52_c', 'v52_d', 'v52_e', 'v52_f',\n",
       "       'v52_g', 'v52_h', 'v52_i', 'v52_j', 'v52_k', 'v52_l', 'v52_m',\n",
       "       'v52_n', 'v52_o', 'v52_p', 'v52_q', 'v60_0', 'v61_0'], dtype=object)"
      ]
     },
     "execution_count": 181,
     "metadata": {},
     "output_type": "execute_result"
    }
   ],
   "source": [
    "new_data.columns.values"
   ]
  },
  {
   "cell_type": "code",
   "execution_count": 194,
   "metadata": {},
   "outputs": [],
   "source": [
    "s1 = pd.merge(trouw, gewicht, how='left', on=['ID'])"
   ]
  },
  {
   "cell_type": "code",
   "execution_count": 195,
   "metadata": {},
   "outputs": [],
   "source": [
    "s2 = pd.merge(s1,lengte, how='left', on=['ID'])"
   ]
  },
  {
   "cell_type": "code",
   "execution_count": 198,
   "metadata": {},
   "outputs": [],
   "source": [
    "s3c = pd.merge(s3b, NrDon, how='left', on=['ID'])"
   ]
  },
  {
   "cell_type": "code",
   "execution_count": 199,
   "metadata": {},
   "outputs": [],
   "source": [
    "s4 = pd.merge(s3c, Gender, how='left', on=['ID'])"
   ]
  },
  {
   "cell_type": "code",
   "execution_count": 200,
   "metadata": {},
   "outputs": [],
   "source": [
    "s5 = pd.merge(s4, AgeDIS, how='left', on=['ID'])"
   ]
  },
  {
   "cell_type": "code",
   "execution_count": 201,
   "metadata": {},
   "outputs": [],
   "source": [
    "s6 = pd.merge(s5, D2_v11, how='left', on=['ID'])"
   ]
  },
  {
   "cell_type": "code",
   "execution_count": 202,
   "metadata": {},
   "outputs": [],
   "source": [
    "s7 = pd.merge(s6, Workh, how='left', on=['ID'])"
   ]
  },
  {
   "cell_type": "code",
   "execution_count": 203,
   "metadata": {},
   "outputs": [],
   "source": [
    "s8 = pd.merge(s7, v12, how='left', on=['ID'])"
   ]
  },
  {
   "cell_type": "code",
   "execution_count": 204,
   "metadata": {},
   "outputs": [],
   "source": [
    "s9 = pd.merge(s8, D2_v13, how='left', on=['ID'])"
   ]
  },
  {
   "cell_type": "code",
   "execution_count": 205,
   "metadata": {},
   "outputs": [],
   "source": [
    "s10 = pd.merge(s9, D2_v15, how='left', on=['ID'])"
   ]
  },
  {
   "cell_type": "code",
   "execution_count": 206,
   "metadata": {},
   "outputs": [],
   "source": [
    "s10b = pd.merge(s10, D2_v16, how='left', on=['ID'])"
   ]
  },
  {
   "cell_type": "code",
   "execution_count": 207,
   "metadata": {},
   "outputs": [],
   "source": [
    "s11 = pd.merge(s10b, cas, how='left', on=['ID'])"
   ]
  },
  {
   "cell_type": "code",
   "execution_count": 208,
   "metadata": {},
   "outputs": [],
   "source": [
    "s12 = pd.merge(s11, aas, how='left', on=['ID'])"
   ]
  },
  {
   "cell_type": "code",
   "execution_count": 209,
   "metadata": {},
   "outputs": [],
   "source": [
    "s13 = pd.merge(s12, ints, how='left', on=['ID'])"
   ]
  },
  {
   "cell_type": "code",
   "execution_count": 210,
   "metadata": {},
   "outputs": [],
   "source": [
    "s14 = pd.merge(s13, ses, how='left', on=['ID'])"
   ]
  },
  {
   "cell_type": "code",
   "execution_count": 211,
   "metadata": {},
   "outputs": [],
   "source": [
    "s15 = pd.merge(s14, sns, how='left', on=['ID'])"
   ]
  },
  {
   "cell_type": "code",
   "execution_count": 212,
   "metadata": {},
   "outputs": [],
   "source": [
    "s16 = pd.merge(s15, mns, how='left', on=['ID'])"
   ]
  },
  {
   "cell_type": "code",
   "execution_count": 213,
   "metadata": {},
   "outputs": [],
   "source": [
    "s17 = pd.merge(s16, v29, how='left', on=['ID'])"
   ]
  },
  {
   "cell_type": "code",
   "execution_count": 214,
   "metadata": {},
   "outputs": [],
   "source": [
    "s18 = pd.merge(s17, sport, how='left', on=['ID'])"
   ]
  },
  {
   "cell_type": "code",
   "execution_count": 215,
   "metadata": {},
   "outputs": [],
   "source": [
    "s19 = pd.merge(s18, hvs, how='left', on=['ID'])"
   ]
  },
  {
   "cell_type": "code",
   "execution_count": 216,
   "metadata": {},
   "outputs": [],
   "source": [
    "s20 = pd.merge(s19, trs, how='left', on=['ID'])"
   ]
  },
  {
   "cell_type": "code",
   "execution_count": 217,
   "metadata": {},
   "outputs": [],
   "source": [
    "s21 = pd.merge(s20, v48, how='left', on=['ID'])"
   ]
  },
  {
   "cell_type": "code",
   "execution_count": 218,
   "metadata": {},
   "outputs": [],
   "source": [
    "s22 =  pd.merge(s21, mgzs, how='left', on=['ID'])"
   ]
  },
  {
   "cell_type": "code",
   "execution_count": 219,
   "metadata": {},
   "outputs": [],
   "source": [
    "s23 = pd.merge(s22, skd, how='left', on=['ID'])"
   ]
  },
  {
   "cell_type": "code",
   "execution_count": 220,
   "metadata": {},
   "outputs": [],
   "source": [
    "s24 = pd.merge(s23, sg, how='left', on=['ID'])"
   ]
  },
  {
   "cell_type": "code",
   "execution_count": 221,
   "metadata": {},
   "outputs": [],
   "source": [
    "s25 = pd.merge(s24, bdf, how='left', on=['ID'])"
   ]
  },
  {
   "cell_type": "code",
   "execution_count": 222,
   "metadata": {},
   "outputs": [],
   "source": [
    "#final merge\n",
    "df = pd.merge(s25, btf, how='left', on=['ID'])"
   ]
  },
  {
   "cell_type": "code",
   "execution_count": 223,
   "metadata": {},
   "outputs": [],
   "source": [
    "#dataframe vast opslaan als csv #youneverknow\n",
    "df.to_csv('df2.csv')"
   ]
  },
  {
   "cell_type": "code",
   "execution_count": 226,
   "metadata": {},
   "outputs": [
    {
     "data": {
      "text/plain": [
       "(12859, 47)"
      ]
     },
     "execution_count": 226,
     "metadata": {},
     "output_type": "execute_result"
    }
   ],
   "source": [
    "df.shape"
   ]
  }
 ],
 "metadata": {
  "kernelspec": {
   "display_name": "Python 3",
   "language": "python",
   "name": "python3"
  },
  "language_info": {
   "codemirror_mode": {
    "name": "ipython",
    "version": 3
   },
   "file_extension": ".py",
   "mimetype": "text/x-python",
   "name": "python",
   "nbconvert_exporter": "python",
   "pygments_lexer": "ipython3",
   "version": "3.5.3"
  }
 },
 "nbformat": 4,
 "nbformat_minor": 2
}
